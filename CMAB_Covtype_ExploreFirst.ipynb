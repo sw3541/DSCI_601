{
 "cells": [
  {
   "cell_type": "code",
   "execution_count": 2,
   "id": "f0a4bf7a",
   "metadata": {},
   "outputs": [],
   "source": [
    "import pandas as pd, numpy as np, re\n",
    "from contextualbandits.linreg import LinearRegression\n",
    "from contextualbandits.online import ExploreFirst\n",
    "from copy import deepcopy\n",
    "from sklearn.model_selection import train_test_split\n",
    "import pandas as pd\n",
    "import tensorflow as tf\n",
    "import numpy as np\n",
    "from sklearn.preprocessing import MinMaxScaler, StandardScaler\n",
    "from sklearn.metrics import accuracy_score\n",
    "import warnings\n",
    "warnings.filterwarnings('ignore')\n",
    "import math\n",
    "import logging\n",
    "logger = logging.getLogger()\n",
    "logger.setLevel(logging.CRITICAL)"
   ]
  },
  {
   "cell_type": "code",
   "execution_count": 3,
   "id": "98ca4ebf",
   "metadata": {},
   "outputs": [],
   "source": [
    "columns = ['Elevation',\n",
    "          'Aspect',\n",
    "          'Slope',\n",
    "          'Horizontal_Distance_To_Hydrology',\n",
    "          'Vertical_Distance_To_Hydrology',\n",
    "          'Horizontal_Distance_To_Roadways',\n",
    "          'Hillshade_9am',\n",
    "          'Hillshade_Noon',\n",
    "          'Hillshade_3pm',\n",
    "          'Horizontal_Distance_To_Fire_Points',\n",
    "          'Wilderness_Area1',\n",
    "          'Wilderness_Area2',\n",
    "          'Wilderness_Area3',\n",
    "           'Wilderness_Area4'\n",
    "          ]\n",
    "for i in range(1,41):\n",
    "    columns.append('Soil_Type_'+str(i))\n",
    "columns.append('Cover_Type')"
   ]
  },
  {
   "cell_type": "code",
   "execution_count": 4,
   "id": "0d12c69f",
   "metadata": {},
   "outputs": [],
   "source": [
    "df = pd.read_csv('covtype.data',names=columns, header=None)"
   ]
  },
  {
   "cell_type": "code",
   "execution_count": 5,
   "id": "3b529b89",
   "metadata": {},
   "outputs": [
    {
     "data": {
      "text/plain": [
       "Index(['Elevation', 'Aspect', 'Slope', 'Horizontal_Distance_To_Hydrology',\n",
       "       'Vertical_Distance_To_Hydrology', 'Horizontal_Distance_To_Roadways',\n",
       "       'Hillshade_9am', 'Hillshade_Noon', 'Hillshade_3pm',\n",
       "       'Horizontal_Distance_To_Fire_Points', 'Wilderness_Area1',\n",
       "       'Wilderness_Area2', 'Wilderness_Area3', 'Wilderness_Area4',\n",
       "       'Soil_Type_1', 'Soil_Type_2', 'Soil_Type_3', 'Soil_Type_4',\n",
       "       'Soil_Type_5', 'Soil_Type_6', 'Soil_Type_7', 'Soil_Type_8',\n",
       "       'Soil_Type_9', 'Soil_Type_10', 'Soil_Type_11', 'Soil_Type_12',\n",
       "       'Soil_Type_13', 'Soil_Type_14', 'Soil_Type_15', 'Soil_Type_16',\n",
       "       'Soil_Type_17', 'Soil_Type_18', 'Soil_Type_19', 'Soil_Type_20',\n",
       "       'Soil_Type_21', 'Soil_Type_22', 'Soil_Type_23', 'Soil_Type_24',\n",
       "       'Soil_Type_25', 'Soil_Type_26', 'Soil_Type_27', 'Soil_Type_28',\n",
       "       'Soil_Type_29', 'Soil_Type_30', 'Soil_Type_31', 'Soil_Type_32',\n",
       "       'Soil_Type_33', 'Soil_Type_34', 'Soil_Type_35', 'Soil_Type_36',\n",
       "       'Soil_Type_37', 'Soil_Type_38', 'Soil_Type_39', 'Soil_Type_40',\n",
       "       'Cover_Type'],\n",
       "      dtype='object')"
      ]
     },
     "execution_count": 5,
     "metadata": {},
     "output_type": "execute_result"
    }
   ],
   "source": [
    "df.columns"
   ]
  },
  {
   "cell_type": "code",
   "execution_count": 6,
   "id": "14b3d56e",
   "metadata": {},
   "outputs": [],
   "source": [
    "soil_type_list = []\n",
    "hillshade_list = []\n",
    "log_elevation_list = []\n",
    "hillshade_9am_sq_list = []\n",
    "hillshade_noon_sq_list = []\n",
    "hillshade_3pm_sq_list = []\n",
    "interaction_9amnoon_list = []\n",
    "interaction_noon3pm_list = []\n",
    "interaction_9am3pm_list = []\n",
    "cosine_slope_list = []\n",
    "\n",
    "for index,row in df.iterrows():\n",
    "    rows = []\n",
    "    hillshades = []\n",
    "    \n",
    "    c2 = row['Hillshade_9am']\n",
    "    hillshades.append(c2)\n",
    "    c3 = row['Hillshade_Noon']\n",
    "    hillshades.append(c3)\n",
    "    c4 = row['Hillshade_3pm']\n",
    "    hillshades.append(c4)\n",
    "    \n",
    "    c5 = row['Elevation']\n",
    "    log_elevation_list.append(math.log(c5))\n",
    "    \n",
    "    c6 = row['Hillshade_9am']\n",
    "    hillshade_9am_sq_list.append(c6**2)\n",
    "    \n",
    "    c7 = row['Hillshade_Noon']\n",
    "    hillshade_noon_sq_list.append(c7**2)\n",
    "    \n",
    "    c8 = row['Hillshade_3pm']\n",
    "    hillshade_3pm_sq_list.append(c8**2)\n",
    "    \n",
    "    interaction_9amnoon_list.append(c6*c7)\n",
    "    interaction_noon3pm_list.append(c7*c8)\n",
    "    interaction_9am3pm_list.append(c6*c8)\n",
    "    \n",
    "    c9 = row['Slope']\n",
    "    cosine_slope_list.append(math.cos(c9))\n",
    "    \n",
    "    hillshade_list.append(np.mean(hillshades))"
   ]
  },
  {
   "cell_type": "code",
   "execution_count": 7,
   "id": "9fd34e0e",
   "metadata": {},
   "outputs": [],
   "source": [
    "sl_type_column = []\n",
    "for i in soil_type_list:\n",
    "    ind = i.index(1)+1\n",
    "    sl_type_column.append(ind)"
   ]
  },
  {
   "cell_type": "code",
   "execution_count": 8,
   "id": "5151ab8f",
   "metadata": {},
   "outputs": [],
   "source": [
    "#df['Soil_Type'] = sl_type_column\n",
    "df['Hillshade_mean'] = hillshade_list\n",
    "df['log_elevation'] = log_elevation_list\n",
    "df['Hillshade_9am_sq'] = hillshade_9am_sq_list\n",
    "df['Hillshade_noon_sq'] = hillshade_noon_sq_list\n",
    "df['Hillshade_3pm_sq'] = hillshade_3pm_sq_list\n",
    "df['cosine_slope'] = cosine_slope_list\n",
    "df['interaction_9amnoon'] = interaction_9amnoon_list\n",
    "df['interaction_noon3pm'] = interaction_noon3pm_list\n",
    "df['interaction_9am3pm'] = interaction_9am3pm_list"
   ]
  },
  {
   "cell_type": "code",
   "execution_count": 9,
   "id": "bdbc81d3",
   "metadata": {},
   "outputs": [
    {
     "name": "stdout",
     "output_type": "stream",
     "text": [
      "Elevation                          -0.269554\n",
      "Aspect                              0.017080\n",
      "Slope                               0.148285\n",
      "Horizontal_Distance_To_Hydrology   -0.020317\n",
      "Vertical_Distance_To_Hydrology      0.081664\n",
      "                                      ...   \n",
      "Hillshade_3pm_sq                   -0.027681\n",
      "cosine_slope                        0.000996\n",
      "interaction_9amnoon                -0.082913\n",
      "interaction_noon3pm                -0.060559\n",
      "interaction_9am3pm                 -0.108289\n",
      "Name: Cover_Type, Length: 64, dtype: float64\n"
     ]
    }
   ],
   "source": [
    "correlations = pd.DataFrame(df.corr())\n",
    "print(correlations['Cover_Type'])"
   ]
  },
  {
   "cell_type": "code",
   "execution_count": 10,
   "id": "085abc6a",
   "metadata": {},
   "outputs": [],
   "source": [
    "df_train = df.copy(deep=True)"
   ]
  },
  {
   "cell_type": "code",
   "execution_count": 11,
   "id": "4cc74160",
   "metadata": {},
   "outputs": [
    {
     "data": {
      "text/plain": [
       "2    283301\n",
       "1    211840\n",
       "3     35754\n",
       "7     20510\n",
       "6     17367\n",
       "5      9493\n",
       "4      2747\n",
       "Name: Cover_Type, dtype: int64"
      ]
     },
     "execution_count": 11,
     "metadata": {},
     "output_type": "execute_result"
    }
   ],
   "source": [
    "df_train['Cover_Type'].value_counts()"
   ]
  },
  {
   "cell_type": "code",
   "execution_count": 12,
   "id": "0f49cca0",
   "metadata": {},
   "outputs": [],
   "source": [
    "y = pd.DataFrame(df_train['Cover_Type'])\n",
    "df_train.drop(labels=['Cover_Type'],inplace=True,axis=1)\n",
    "X = df_train"
   ]
  },
  {
   "cell_type": "code",
   "execution_count": 13,
   "id": "b7b24c0b",
   "metadata": {},
   "outputs": [],
   "source": [
    "X_train, X_test, y_train, y_test = train_test_split(X, y, test_size=0.33, random_state=42)"
   ]
  },
  {
   "cell_type": "code",
   "execution_count": 14,
   "id": "16d50ac1",
   "metadata": {},
   "outputs": [],
   "source": [
    "scaler = StandardScaler()\n",
    "X_scaled = scaler.fit_transform(X_train.to_numpy())\n",
    "X_scaled = pd.DataFrame(X_scaled, columns=X.columns)"
   ]
  },
  {
   "cell_type": "code",
   "execution_count": 15,
   "id": "cc7eb017",
   "metadata": {},
   "outputs": [],
   "source": [
    "X = X_scaled.to_numpy()\n",
    "y = y_train.to_numpy()"
   ]
  },
  {
   "cell_type": "code",
   "execution_count": 16,
   "id": "2a1af1bc",
   "metadata": {},
   "outputs": [],
   "source": [
    "base_algorithm = LinearRegression(lambda_=20., fit_intercept=True, method=\"chol\")"
   ]
  },
  {
   "cell_type": "code",
   "execution_count": 17,
   "id": "8ea40fa4",
   "metadata": {},
   "outputs": [],
   "source": [
    "# Explore First Contextual Bandit Algorithm\n",
    "bootstrapped_ucb = ExploreFirst(base_algorithm=base_algorithm,\n",
    "                                explore_rounds=50,active_choice='weighted',\n",
    "                                   nchoices=7,beta_prior=None,\n",
    "                                   batch_train=True,refit_buffer=50,\n",
    "                                      smoothing = (1,2),deep_copy_buffer = False,\n",
    "                                      random_state=2222)"
   ]
  },
  {
   "cell_type": "code",
   "execution_count": 18,
   "id": "10f7b520",
   "metadata": {},
   "outputs": [],
   "source": [
    "rewards_ucb = []"
   ]
  },
  {
   "cell_type": "code",
   "execution_count": 19,
   "id": "51fc337d",
   "metadata": {},
   "outputs": [],
   "source": [
    "batch_size = 1000\n",
    "\n",
    "first_batch = X[:batch_size, :]\n",
    "np.random.seed(1)\n",
    "action_chosen = np.random.randint(7, size=batch_size)\n",
    "expected_action = y[:batch_size]\n",
    "rewards_recieved = np.zeros(shape=(batch_size, 1))\n",
    "for i in range(batch_size):\n",
    "    if action_chosen[i]==expected_action[i][0]:\n",
    "        rewards_recieved[i]=1\n",
    "bootstrapped_ucb.fit(X=first_batch, a=action_chosen, r=rewards_recieved,\n",
    "                    warm_start = True)\n",
    "    \n",
    "lst_a_ucb = action_chosen.copy()\n",
    "\n",
    "\n",
    "def simulate_rounds(model, rewards, actions_hist, X_global, y_global, batch_st, batch_end):\n",
    "    \n",
    "    actions_this_batch = model.predict(X_global)\n",
    "    expected_action = y_global\n",
    "    batch_size = batch_end - batch_st\n",
    "    rewards_rec = np.zeros(shape=(batch_size, 1))\n",
    "    for i in range(batch_size):\n",
    "        if actions_this_batch[i]==expected_action[i][0]:\n",
    "            rewards_rec[i]=1\n",
    "    rewards.append(rewards_rec.sum())\n",
    "    new_actions_hist = np.append(actions_hist, actions_this_batch)\n",
    "    \n",
    "    np.random.seed(batch_st)\n",
    "    model.partial_fit(X_global, actions_this_batch, rewards_rec) \n",
    "    \n",
    "    return new_actions_hist\n",
    "\n",
    "for i in range(int(np.floor(X.shape[0] / batch_size))):\n",
    "    batch_st = (i+1) * batch_size\n",
    "    batch_end = (i + 2) * batch_size\n",
    "    batch_end = np.min([batch_end, X.shape[0]])\n",
    "    \n",
    "    X_batch = X[batch_st:batch_end, :]\n",
    "    y_batch = y[batch_st:batch_end, :]\n",
    "    \n",
    "    lst_a_ucb = simulate_rounds(bootstrapped_ucb,\n",
    "                                        rewards_ucb,\n",
    "                                        lst_a_ucb,\n",
    "                                        X_batch, y_batch,\n",
    "                                        batch_st, batch_end\n",
    "                               )\n"
   ]
  },
  {
   "cell_type": "code",
   "execution_count": 20,
   "id": "308e2f20",
   "metadata": {},
   "outputs": [
    {
     "name": "stdout",
     "output_type": "stream",
     "text": [
      "<contextualbandits.online.ExploreFirst object at 0x15cfdd330> 274896.0\n"
     ]
    }
   ],
   "source": [
    "print(bootstrapped_ucb,sum(rewards_ucb))"
   ]
  },
  {
   "cell_type": "code",
   "execution_count": 21,
   "id": "d2291eb0",
   "metadata": {},
   "outputs": [],
   "source": [
    "df_test = df.copy(deep=True)"
   ]
  },
  {
   "cell_type": "code",
   "execution_count": 22,
   "id": "965684c7",
   "metadata": {},
   "outputs": [],
   "source": [
    "X_scaled_test = scaler.fit_transform(X_test.to_numpy())\n",
    "X_scaled_test = pd.DataFrame(X_scaled_test, columns=X_test.columns)"
   ]
  },
  {
   "cell_type": "code",
   "execution_count": 23,
   "id": "2c87dc88",
   "metadata": {},
   "outputs": [],
   "source": [
    "y_pred = bootstrapped_ucb.predict(X_scaled_test)\n",
    "y_pred = pd.DataFrame(y_pred,columns=['Cover_Type'])"
   ]
  },
  {
   "cell_type": "code",
   "execution_count": 24,
   "id": "3ab3442f",
   "metadata": {},
   "outputs": [
    {
     "data": {
      "text/plain": [
       "2    97584\n",
       "1    77383\n",
       "3    15450\n",
       "6      623\n",
       "4      339\n",
       "5      289\n",
       "0       66\n",
       "Name: Cover_Type, dtype: int64"
      ]
     },
     "execution_count": 24,
     "metadata": {},
     "output_type": "execute_result"
    }
   ],
   "source": [
    "y_pred['Cover_Type'].value_counts()"
   ]
  },
  {
   "cell_type": "code",
   "execution_count": 25,
   "id": "3ea1dfd8",
   "metadata": {},
   "outputs": [
    {
     "data": {
      "text/plain": [
       "0.7100670720894573"
      ]
     },
     "execution_count": 25,
     "metadata": {},
     "output_type": "execute_result"
    }
   ],
   "source": [
    "accuracy_score(y_test,y_pred)"
   ]
  },
  {
   "cell_type": "code",
   "execution_count": null,
   "id": "ab3ec723",
   "metadata": {},
   "outputs": [],
   "source": []
  }
 ],
 "metadata": {
  "kernelspec": {
   "display_name": "Python 3 (ipykernel)",
   "language": "python",
   "name": "python3"
  },
  "language_info": {
   "codemirror_mode": {
    "name": "ipython",
    "version": 3
   },
   "file_extension": ".py",
   "mimetype": "text/x-python",
   "name": "python",
   "nbconvert_exporter": "python",
   "pygments_lexer": "ipython3",
   "version": "3.10.7"
  }
 },
 "nbformat": 4,
 "nbformat_minor": 5
}
